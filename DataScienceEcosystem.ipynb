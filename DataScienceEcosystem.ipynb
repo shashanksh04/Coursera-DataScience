{
 "cells": [
  {
   "cell_type": "markdown",
   "id": "65687ff1-2476-4a18-972c-7772a771b907",
   "metadata": {},
   "source": [
    "# Data Science Tools and Ecosystem"
   ]
  },
  {
   "cell_type": "markdown",
   "id": "47921687-091f-4f07-a32c-05fcf8b82a9b",
   "metadata": {},
   "source": [
    "In this notebook, Data Science Tools and Ecosystem are summarized."
   ]
  },
  {
   "cell_type": "markdown",
   "id": "c9598888-73c7-4719-a9ea-f81282eef459",
   "metadata": {},
   "source": [
    "__Objectives:__\n",
    "1. Some of the popular languages\n",
    "2. Some of the commonly used libraries\n",
    "3. Arithmetic Expressions"
   ]
  },
  {
   "cell_type": "markdown",
   "id": "f8c21d36-3641-41c0-a2b2-1ae0fe9fafb3",
   "metadata": {},
   "source": [
    "Some of the popular languages that Data Scientists use are:\n",
    "1. Python\n",
    "2. R\n",
    "3. SQL"
   ]
  },
  {
   "cell_type": "markdown",
   "id": "4662e9b1-9a97-404e-83ec-13b5d1f8b67a",
   "metadata": {},
   "source": [
    "Some of the commonly used libraries used by Data Scientists include:\n",
    "1. Matplotlib\n",
    "2. Scikitlearn\n",
    "3. Pandas"
   ]
  },
  {
   "cell_type": "markdown",
   "id": "8c83aec0-11b3-4914-9d45-bb783be519ce",
   "metadata": {},
   "source": [
    "| Data Science Tools |\n",
    "| --- |\n",
    "| Jupyter |\n",
    "| PowerBI |\n",
    "| Tableau |"
   ]
  },
  {
   "cell_type": "markdown",
   "id": "9f71b627-f1c9-47a6-8703-98a468462aa8",
   "metadata": {},
   "source": [
    "### Below are a few examples of evaluating arithmetic expressions in Python"
   ]
  },
  {
   "cell_type": "code",
   "execution_count": 4,
   "id": "7d55efa6-0af5-4a7b-a3dd-395859bb4bc3",
   "metadata": {},
   "outputs": [
    {
     "data": {
      "text/plain": [
       "17"
      ]
     },
     "execution_count": 4,
     "metadata": {},
     "output_type": "execute_result"
    }
   ],
   "source": [
    "(3*4)+5\n",
    "#This a simple arithmetic expression to mutiply then add integers"
   ]
  },
  {
   "cell_type": "code",
   "execution_count": 6,
   "id": "e6e47622-698d-4430-8dca-aeb05be8a07b",
   "metadata": {},
   "outputs": [
    {
     "name": "stdout",
     "output_type": "stream",
     "text": [
      "3.3333333333333335 hours\n"
     ]
    }
   ],
   "source": [
    "print(200/60, \"hours\") \n",
    "#This will convert 200 minutes to hours by diving by 60"
   ]
  },
  {
   "cell_type": "markdown",
   "id": "aefa1e44-9886-470a-a62b-1930a673e804",
   "metadata": {},
   "source": [
    "## Author\n"
   ]
  }
 ],
 "metadata": {
  "kernelspec": {
   "display_name": "Python 3 (ipykernel)",
   "language": "python",
   "name": "python3"
  },
  "language_info": {
   "codemirror_mode": {
    "name": "ipython",
    "version": 3
   },
   "file_extension": ".py",
   "mimetype": "text/x-python",
   "name": "python",
   "nbconvert_exporter": "python",
   "pygments_lexer": "ipython3",
   "version": "3.11.4"
  }
 },
 "nbformat": 4,
 "nbformat_minor": 5
}
